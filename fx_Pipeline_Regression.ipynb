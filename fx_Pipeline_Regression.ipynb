{
 "cells": [
  {
   "cell_type": "markdown",
   "id": "hired-revelation",
   "metadata": {},
   "source": [
    "# Libraries to import"
   ]
  },
  {
   "cell_type": "code",
   "execution_count": 43,
   "id": "hungarian-messaging",
   "metadata": {},
   "outputs": [],
   "source": [
    "from sklearn.tree import DecisionTreeRegressor\n",
    "from sklearn.ensemble import RandomForestRegressor\n",
    "from sklearn.linear_model import LinearRegression,Ridge,Lasso\n",
    "from sklearn.svm import SVR\n",
    "from sklearn.model_selection import StratifiedKFold\n",
    "from sklearn.model_selection import cross_val_score\n",
    "from sklearn.pipeline import Pipeline\n",
    "\n",
    "\n",
    "import warnings\n",
    "warnings.filterwarnings('ignore')\n"
   ]
  },
  {
   "cell_type": "markdown",
   "id": "aware-pillow",
   "metadata": {},
   "source": [
    "# Generic functions to get the baseline models, ie with the default parameters"
   ]
  },
  {
   "cell_type": "code",
   "execution_count": 31,
   "id": "under-figure",
   "metadata": {},
   "outputs": [],
   "source": [
    "# Function 1: Let's define a function which will instantiate as many models \n",
    "#as you wish to\n",
    "\n",
    "def Reg_getBasedModel():\n",
    "    basedModels = []\n",
    "    basedModels.append(('LinearR'   , LinearRegression()))\n",
    "    basedModels.append(('Ridge'   , Ridge()))\n",
    "    basedModels.append(('Lasso'   , Lasso()))\n",
    "    basedModels.append(('DT' , DecisionTreeRegressor()))\n",
    "    #basedModels.append(('SVM-R'  , SVR()))\n",
    "    basedModels.append(('RF'   , RandomForestRegressor()))\n",
    "    return basedModels"
   ]
  },
  {
   "cell_type": "code",
   "execution_count": 33,
   "id": "offensive-horizon",
   "metadata": {},
   "outputs": [],
   "source": [
    "# Function 2: Let's define a function that will train \n",
    "# each individual model described in GetBasedModel() function\n",
    "\n",
    "def Reg_basedModels(X_train, y_train,models):\n",
    "    \"\"\"\n",
    "    BasedModels will return the evaluation metric 'r2 after performing\n",
    "    a CV for each of the models\n",
    "    input:\n",
    "    X_train\n",
    "    y_train\n",
    "    models = array containing the different instantiated models\n",
    "    \n",
    "    output:\n",
    "    names = names of the diff models tested\n",
    "    results = results of the diff models\n",
    "    \"\"\"\n",
    "    # Test options and evaluation metric\n",
    "    num_folds = 10\n",
    "    \n",
    "    #num_folds =  k_folds\n",
    "    scoring = 'r2'\n",
    "\n",
    "    results = []\n",
    "    names = []\n",
    "    \n",
    "    for name, model in models:\n",
    "        kfold = StratifiedKFold(n_splits=num_folds)\n",
    "        cv_results = cross_val_score(model, X_train,\n",
    "                                     y_train, cv=kfold, scoring=scoring)\n",
    "        results.append(cv_results.mean())\n",
    "        names.append(name)\n",
    "        msg = \"%s: Accuracy = %f (std = %f)\" % (name, \n",
    "                                                cv_results.mean(), \n",
    "                                                cv_results.std())\n",
    "        print(msg)\n",
    "    scoreDataFrame = pd.DataFrame({'Model':names, 'Score': results})\n",
    "       \n",
    "        \n",
    "    return scoreDataFrame"
   ]
  },
  {
   "cell_type": "code",
   "execution_count": 32,
   "id": "departmental-segment",
   "metadata": {},
   "outputs": [],
   "source": [
    "models = Reg_getBasedModel()"
   ]
  },
  {
   "cell_type": "markdown",
   "id": "fifteen-wiring",
   "metadata": {},
   "source": [
    "# Pipeline with the scaling methods"
   ]
  },
  {
   "cell_type": "code",
   "execution_count": 44,
   "id": "adjusted-guidance",
   "metadata": {},
   "outputs": [],
   "source": [
    "from sklearn.preprocessing import StandardScaler\n",
    "from sklearn.preprocessing import MinMaxScaler, RobustScaler\n",
    "\n",
    "# We will define a function to apply any preprocessing method to the raw data\n",
    "\n",
    "def Reg_GetScaledModel(nameOfScaler):\n",
    "    \"\"\"\n",
    "    Function to define whether we want to apply any preprocessing method to the raw data.\n",
    "    input:\n",
    "    nameOfScale  = 'standard' (standardize),  'minmax' or 'robustscaler'\n",
    "    \"\"\"\n",
    "    \n",
    "    if nameOfScaler == 'standard':\n",
    "        scaler = StandardScaler()\n",
    "        \n",
    "    elif nameOfScaler =='minmax':\n",
    "        scaler = MinMaxScaler()\n",
    "        \n",
    "    elif nameOfScaler == 'robustscaler':\n",
    "        scaler = RobustScaler()\n",
    "\n",
    "    pipelines = []\n",
    "    pipelines.append((nameOfScaler+'LinearR'  , \n",
    "                      Pipeline([('Scaler', scaler),\n",
    "                                ('LinearR'   , LinearRegression())])))\n",
    "    \n",
    "    pipelines.append((nameOfScaler+'Ridge' , \n",
    "                      Pipeline([('Scaler', scaler),('Ridge', Ridge())])))\n",
    "    \n",
    "    pipelines.append((nameOfScaler+'Lasso', \n",
    "                      Pipeline([('Scaler', scaler),\n",
    "                                ('Lasso'   , Lasso())])))\n",
    "    \n",
    "    pipelines.append((nameOfScaler+'DT' ,\n",
    "                      Pipeline([('Scaler', scaler),\n",
    "                                ('DT' , DecisionTreeRegressor())])))\n",
    "    \n",
    "    #pipelines.append((nameOfScaler+'SVM' ,\n",
    "         #             Pipeline([('Scaler', scaler),\n",
    "        #                        ('SVM-R' , SVR(kernel = 'rbf'))])))\n",
    "    \n",
    "\n",
    "    pipelines.append((nameOfScaler+'RF'  , \n",
    "                      Pipeline([('Scaler', scaler),\n",
    "                                ('RF'  , DecisionTreeRegressor())])))\n",
    "    return pipelines "
   ]
  },
  {
   "cell_type": "markdown",
   "id": "killing-relation",
   "metadata": {},
   "source": [
    "# Let's test it with a real dataset!"
   ]
  },
  {
   "cell_type": "code",
   "execution_count": 23,
   "id": "universal-pleasure",
   "metadata": {},
   "outputs": [
    {
     "data": {
      "application/javascript": [
       "\n",
       "        if (window._pyforest_update_imports_cell) { window._pyforest_update_imports_cell('import pandas as pd\\nfrom sklearn.model_selection import train_test_split'); }\n",
       "    "
      ],
      "text/plain": [
       "<IPython.core.display.Javascript object>"
      ]
     },
     "metadata": {},
     "output_type": "display_data"
    },
    {
     "data": {
      "text/html": [
       "<div>\n",
       "<style scoped>\n",
       "    .dataframe tbody tr th:only-of-type {\n",
       "        vertical-align: middle;\n",
       "    }\n",
       "\n",
       "    .dataframe tbody tr th {\n",
       "        vertical-align: top;\n",
       "    }\n",
       "\n",
       "    .dataframe thead th {\n",
       "        text-align: right;\n",
       "    }\n",
       "</style>\n",
       "<table border=\"1\" class=\"dataframe\">\n",
       "  <thead>\n",
       "    <tr style=\"text-align: right;\">\n",
       "      <th></th>\n",
       "      <th>Unnamed: 0</th>\n",
       "      <th>carat</th>\n",
       "      <th>cut</th>\n",
       "      <th>color</th>\n",
       "      <th>clarity</th>\n",
       "      <th>depth</th>\n",
       "      <th>table</th>\n",
       "      <th>price</th>\n",
       "      <th>x</th>\n",
       "      <th>y</th>\n",
       "      <th>z</th>\n",
       "    </tr>\n",
       "  </thead>\n",
       "  <tbody>\n",
       "    <tr>\n",
       "      <th>0</th>\n",
       "      <td>1</td>\n",
       "      <td>0.23</td>\n",
       "      <td>Ideal</td>\n",
       "      <td>E</td>\n",
       "      <td>SI2</td>\n",
       "      <td>61.5</td>\n",
       "      <td>55.0</td>\n",
       "      <td>326</td>\n",
       "      <td>3.95</td>\n",
       "      <td>3.98</td>\n",
       "      <td>2.43</td>\n",
       "    </tr>\n",
       "    <tr>\n",
       "      <th>1</th>\n",
       "      <td>2</td>\n",
       "      <td>0.21</td>\n",
       "      <td>Premium</td>\n",
       "      <td>E</td>\n",
       "      <td>SI1</td>\n",
       "      <td>59.8</td>\n",
       "      <td>61.0</td>\n",
       "      <td>326</td>\n",
       "      <td>3.89</td>\n",
       "      <td>3.84</td>\n",
       "      <td>2.31</td>\n",
       "    </tr>\n",
       "    <tr>\n",
       "      <th>2</th>\n",
       "      <td>3</td>\n",
       "      <td>0.23</td>\n",
       "      <td>Good</td>\n",
       "      <td>E</td>\n",
       "      <td>VS1</td>\n",
       "      <td>56.9</td>\n",
       "      <td>65.0</td>\n",
       "      <td>327</td>\n",
       "      <td>4.05</td>\n",
       "      <td>4.07</td>\n",
       "      <td>2.31</td>\n",
       "    </tr>\n",
       "    <tr>\n",
       "      <th>3</th>\n",
       "      <td>4</td>\n",
       "      <td>0.29</td>\n",
       "      <td>Premium</td>\n",
       "      <td>I</td>\n",
       "      <td>VS2</td>\n",
       "      <td>62.4</td>\n",
       "      <td>58.0</td>\n",
       "      <td>334</td>\n",
       "      <td>4.20</td>\n",
       "      <td>4.23</td>\n",
       "      <td>2.63</td>\n",
       "    </tr>\n",
       "    <tr>\n",
       "      <th>4</th>\n",
       "      <td>5</td>\n",
       "      <td>0.31</td>\n",
       "      <td>Good</td>\n",
       "      <td>J</td>\n",
       "      <td>SI2</td>\n",
       "      <td>63.3</td>\n",
       "      <td>58.0</td>\n",
       "      <td>335</td>\n",
       "      <td>4.34</td>\n",
       "      <td>4.35</td>\n",
       "      <td>2.75</td>\n",
       "    </tr>\n",
       "    <tr>\n",
       "      <th>...</th>\n",
       "      <td>...</td>\n",
       "      <td>...</td>\n",
       "      <td>...</td>\n",
       "      <td>...</td>\n",
       "      <td>...</td>\n",
       "      <td>...</td>\n",
       "      <td>...</td>\n",
       "      <td>...</td>\n",
       "      <td>...</td>\n",
       "      <td>...</td>\n",
       "      <td>...</td>\n",
       "    </tr>\n",
       "    <tr>\n",
       "      <th>53935</th>\n",
       "      <td>53936</td>\n",
       "      <td>0.72</td>\n",
       "      <td>Ideal</td>\n",
       "      <td>D</td>\n",
       "      <td>SI1</td>\n",
       "      <td>60.8</td>\n",
       "      <td>57.0</td>\n",
       "      <td>2757</td>\n",
       "      <td>5.75</td>\n",
       "      <td>5.76</td>\n",
       "      <td>3.50</td>\n",
       "    </tr>\n",
       "    <tr>\n",
       "      <th>53936</th>\n",
       "      <td>53937</td>\n",
       "      <td>0.72</td>\n",
       "      <td>Good</td>\n",
       "      <td>D</td>\n",
       "      <td>SI1</td>\n",
       "      <td>63.1</td>\n",
       "      <td>55.0</td>\n",
       "      <td>2757</td>\n",
       "      <td>5.69</td>\n",
       "      <td>5.75</td>\n",
       "      <td>3.61</td>\n",
       "    </tr>\n",
       "    <tr>\n",
       "      <th>53937</th>\n",
       "      <td>53938</td>\n",
       "      <td>0.70</td>\n",
       "      <td>Very Good</td>\n",
       "      <td>D</td>\n",
       "      <td>SI1</td>\n",
       "      <td>62.8</td>\n",
       "      <td>60.0</td>\n",
       "      <td>2757</td>\n",
       "      <td>5.66</td>\n",
       "      <td>5.68</td>\n",
       "      <td>3.56</td>\n",
       "    </tr>\n",
       "    <tr>\n",
       "      <th>53938</th>\n",
       "      <td>53939</td>\n",
       "      <td>0.86</td>\n",
       "      <td>Premium</td>\n",
       "      <td>H</td>\n",
       "      <td>SI2</td>\n",
       "      <td>61.0</td>\n",
       "      <td>58.0</td>\n",
       "      <td>2757</td>\n",
       "      <td>6.15</td>\n",
       "      <td>6.12</td>\n",
       "      <td>3.74</td>\n",
       "    </tr>\n",
       "    <tr>\n",
       "      <th>53939</th>\n",
       "      <td>53940</td>\n",
       "      <td>0.75</td>\n",
       "      <td>Ideal</td>\n",
       "      <td>D</td>\n",
       "      <td>SI2</td>\n",
       "      <td>62.2</td>\n",
       "      <td>55.0</td>\n",
       "      <td>2757</td>\n",
       "      <td>5.83</td>\n",
       "      <td>5.87</td>\n",
       "      <td>3.64</td>\n",
       "    </tr>\n",
       "  </tbody>\n",
       "</table>\n",
       "<p>53940 rows × 11 columns</p>\n",
       "</div>"
      ],
      "text/plain": [
       "       Unnamed: 0  carat        cut color clarity  depth  table  price     x  \\\n",
       "0               1   0.23      Ideal     E     SI2   61.5   55.0    326  3.95   \n",
       "1               2   0.21    Premium     E     SI1   59.8   61.0    326  3.89   \n",
       "2               3   0.23       Good     E     VS1   56.9   65.0    327  4.05   \n",
       "3               4   0.29    Premium     I     VS2   62.4   58.0    334  4.20   \n",
       "4               5   0.31       Good     J     SI2   63.3   58.0    335  4.34   \n",
       "...           ...    ...        ...   ...     ...    ...    ...    ...   ...   \n",
       "53935       53936   0.72      Ideal     D     SI1   60.8   57.0   2757  5.75   \n",
       "53936       53937   0.72       Good     D     SI1   63.1   55.0   2757  5.69   \n",
       "53937       53938   0.70  Very Good     D     SI1   62.8   60.0   2757  5.66   \n",
       "53938       53939   0.86    Premium     H     SI2   61.0   58.0   2757  6.15   \n",
       "53939       53940   0.75      Ideal     D     SI2   62.2   55.0   2757  5.83   \n",
       "\n",
       "          y     z  \n",
       "0      3.98  2.43  \n",
       "1      3.84  2.31  \n",
       "2      4.07  2.31  \n",
       "3      4.23  2.63  \n",
       "4      4.35  2.75  \n",
       "...     ...   ...  \n",
       "53935  5.76  3.50  \n",
       "53936  5.75  3.61  \n",
       "53937  5.68  3.56  \n",
       "53938  6.12  3.74  \n",
       "53939  5.87  3.64  \n",
       "\n",
       "[53940 rows x 11 columns]"
      ]
     },
     "execution_count": 23,
     "metadata": {},
     "output_type": "execute_result"
    }
   ],
   "source": [
    "df = pd.read_csv('../../../_module3_/datasets/3.3.2.1.diamonds.csv')\n",
    "df"
   ]
  },
  {
   "cell_type": "markdown",
   "id": "injured-laptop",
   "metadata": {},
   "source": [
    "## Define the target and non-target vars, together with the train_test split"
   ]
  },
  {
   "cell_type": "code",
   "execution_count": 39,
   "id": "injured-jefferson",
   "metadata": {},
   "outputs": [
    {
     "data": {
      "application/javascript": [
       "\n",
       "        if (window._pyforest_update_imports_cell) { window._pyforest_update_imports_cell('import pandas as pd\\nfrom sklearn.model_selection import train_test_split'); }\n",
       "    "
      ],
      "text/plain": [
       "<IPython.core.display.Javascript object>"
      ]
     },
     "metadata": {},
     "output_type": "display_data"
    }
   ],
   "source": [
    "X = df[['carat', 'depth', 'x', 'y', 'z']]\n",
    "y = df['price']\n",
    "\n",
    "X_train, X_test, y_train, y_test = train_test_split(X,y,test_size=0.3,\n",
    "                                                    random_state=42)    "
   ]
  },
  {
   "cell_type": "markdown",
   "id": "moved-oasis",
   "metadata": {},
   "source": [
    "## Step 1: Define the baseline models"
   ]
  },
  {
   "cell_type": "code",
   "execution_count": 51,
   "id": "supreme-plastic",
   "metadata": {},
   "outputs": [],
   "source": [
    "models = Reg_getBasedModel()"
   ]
  },
  {
   "cell_type": "markdown",
   "id": "foreign-vatican",
   "metadata": {},
   "source": [
    "# Step 2: Fit the models"
   ]
  },
  {
   "cell_type": "code",
   "execution_count": null,
   "id": "permanent-helen",
   "metadata": {},
   "outputs": [
    {
     "name": "stdout",
     "output_type": "stream",
     "text": [
      "LinearR: Accuracy = 0.843648 (std = 0.037594)\n",
      "Ridge: Accuracy = 0.843993 (std = 0.036567)\n",
      "Lasso: Accuracy = 0.849397 (std = 0.020702)\n",
      "DT: Accuracy = 0.771361 (std = 0.009133)\n"
     ]
    }
   ],
   "source": [
    "Base_model = Reg_basedModels(X_train, y_train,models)"
   ]
  },
  {
   "cell_type": "code",
   "execution_count": null,
   "id": "objective-democracy",
   "metadata": {},
   "outputs": [],
   "source": [
    "Base_model"
   ]
  },
  {
   "cell_type": "markdown",
   "id": "resistant-protein",
   "metadata": {},
   "source": [
    "# Step 3: Get the models with the scaled data"
   ]
  },
  {
   "cell_type": "code",
   "execution_count": 45,
   "id": "expanded-season",
   "metadata": {},
   "outputs": [
    {
     "data": {
      "text/plain": [
       "[('standardLinearR',\n",
       "  Pipeline(steps=[('Scaler', StandardScaler()), ('LinearR', LinearRegression())])),\n",
       " ('standardRidge',\n",
       "  Pipeline(steps=[('Scaler', StandardScaler()), ('Ridge', Ridge())])),\n",
       " ('standardLasso',\n",
       "  Pipeline(steps=[('Scaler', StandardScaler()), ('Lasso', Lasso())])),\n",
       " ('standardDT',\n",
       "  Pipeline(steps=[('Scaler', StandardScaler()), ('DT', DecisionTreeRegressor())])),\n",
       " ('standardRF',\n",
       "  Pipeline(steps=[('Scaler', StandardScaler()), ('RF', DecisionTreeRegressor())]))]"
      ]
     },
     "execution_count": 45,
     "metadata": {},
     "output_type": "execute_result"
    }
   ],
   "source": [
    "models = Reg_GetScaledModel('standard')\n",
    "models"
   ]
  },
  {
   "cell_type": "code",
   "execution_count": 46,
   "id": "elect-suspension",
   "metadata": {},
   "outputs": [
    {
     "name": "stdout",
     "output_type": "stream",
     "text": [
      "standardLinearR: Accuracy = 0.843648 (std = 0.037594)\n",
      "standardRidge: Accuracy = 0.844148 (std = 0.036117)\n",
      "standardLasso: Accuracy = 0.850016 (std = 0.018980)\n",
      "standardDT: Accuracy = 0.772538 (std = 0.009335)\n",
      "standardRF: Accuracy = 0.773599 (std = 0.008283)\n"
     ]
    },
    {
     "data": {
      "application/javascript": [
       "\n",
       "        if (window._pyforest_update_imports_cell) { window._pyforest_update_imports_cell('import pandas as pd\\nfrom sklearn.model_selection import train_test_split'); }\n",
       "    "
      ],
      "text/plain": [
       "<IPython.core.display.Javascript object>"
      ]
     },
     "metadata": {},
     "output_type": "display_data"
    }
   ],
   "source": [
    "scaledScoreStandard = Reg_basedModels(X_train, y_train,models)"
   ]
  },
  {
   "cell_type": "code",
   "execution_count": 47,
   "id": "statutory-poultry",
   "metadata": {},
   "outputs": [
    {
     "data": {
      "text/html": [
       "<div>\n",
       "<style scoped>\n",
       "    .dataframe tbody tr th:only-of-type {\n",
       "        vertical-align: middle;\n",
       "    }\n",
       "\n",
       "    .dataframe tbody tr th {\n",
       "        vertical-align: top;\n",
       "    }\n",
       "\n",
       "    .dataframe thead th {\n",
       "        text-align: right;\n",
       "    }\n",
       "</style>\n",
       "<table border=\"1\" class=\"dataframe\">\n",
       "  <thead>\n",
       "    <tr style=\"text-align: right;\">\n",
       "      <th></th>\n",
       "      <th>Model</th>\n",
       "      <th>Score</th>\n",
       "    </tr>\n",
       "  </thead>\n",
       "  <tbody>\n",
       "    <tr>\n",
       "      <th>0</th>\n",
       "      <td>standardLinearR</td>\n",
       "      <td>0.843648</td>\n",
       "    </tr>\n",
       "    <tr>\n",
       "      <th>1</th>\n",
       "      <td>standardRidge</td>\n",
       "      <td>0.844148</td>\n",
       "    </tr>\n",
       "    <tr>\n",
       "      <th>2</th>\n",
       "      <td>standardLasso</td>\n",
       "      <td>0.850016</td>\n",
       "    </tr>\n",
       "    <tr>\n",
       "      <th>3</th>\n",
       "      <td>standardDT</td>\n",
       "      <td>0.772538</td>\n",
       "    </tr>\n",
       "    <tr>\n",
       "      <th>4</th>\n",
       "      <td>standardRF</td>\n",
       "      <td>0.773599</td>\n",
       "    </tr>\n",
       "  </tbody>\n",
       "</table>\n",
       "</div>"
      ],
      "text/plain": [
       "             Model     Score\n",
       "0  standardLinearR  0.843648\n",
       "1    standardRidge  0.844148\n",
       "2    standardLasso  0.850016\n",
       "3       standardDT  0.772538\n",
       "4       standardRF  0.773599"
      ]
     },
     "execution_count": 47,
     "metadata": {},
     "output_type": "execute_result"
    }
   ],
   "source": [
    "scaledScoreStandard"
   ]
  },
  {
   "cell_type": "code",
   "execution_count": null,
   "id": "important-repeat",
   "metadata": {},
   "outputs": [],
   "source": [
    "compareModels = pd.concat([Base_model,scaledScoreStandard], axis=1)\n",
    "compareModels"
   ]
  },
  {
   "cell_type": "code",
   "execution_count": null,
   "id": "precious-arabic",
   "metadata": {},
   "outputs": [],
   "source": []
  }
 ],
 "metadata": {
  "hide_input": false,
  "kernelspec": {
   "display_name": "Python 3",
   "language": "python",
   "name": "python3"
  },
  "language_info": {
   "codemirror_mode": {
    "name": "ipython",
    "version": 3
   },
   "file_extension": ".py",
   "mimetype": "text/x-python",
   "name": "python",
   "nbconvert_exporter": "python",
   "pygments_lexer": "ipython3",
   "version": "3.7.10"
  },
  "toc": {
   "base_numbering": 1,
   "nav_menu": {},
   "number_sections": true,
   "sideBar": true,
   "skip_h1_title": false,
   "title_cell": "Table of Contents",
   "title_sidebar": "Contents",
   "toc_cell": false,
   "toc_position": {},
   "toc_section_display": true,
   "toc_window_display": false
  }
 },
 "nbformat": 4,
 "nbformat_minor": 5
}
